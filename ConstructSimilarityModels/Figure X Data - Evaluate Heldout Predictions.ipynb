{
 "cells": [
  {
   "cell_type": "code",
   "execution_count": 1,
   "metadata": {
    "collapsed": true,
    "deletable": true,
    "editable": true
   },
   "outputs": [],
   "source": [
    "import os\n",
    "import glob\n",
    "import pandas as pd\n",
    "import numpy as np\n",
    "from sklearn.metrics import confusion_matrix\n",
    "from sklearn.metrics import matthews_corrcoef, f1_score\n",
    "\n",
    "from similarityregression import PairwiseAlignment as pwsaln\n",
    "from similarityregression import PredictSimilarity as srpred"
   ]
  },
  {
   "cell_type": "markdown",
   "metadata": {
    "deletable": true,
    "editable": true
   },
   "source": [
    "# Test"
   ]
  },
  {
   "cell_type": "code",
   "execution_count": 2,
   "metadata": {
    "collapsed": false,
    "deletable": true,
    "editable": true
   },
   "outputs": [
    {
     "name": "stdout",
     "output_type": "stream",
     "text": [
      "CorCoef (R & Python): 1.0\n"
     ]
    }
   ],
   "source": [
    "#AP2\n",
    "CurrentFamily = 'F009_1.97d'\n",
    "fSRModel = srpred.ReadSRModel('DNA/SRModels/' + CurrentFamily + '.json')\n",
    "\n",
    "#Read in original predictions\n",
    "Y = pd.read_csv('DNA/ByFamily/F009_1.97d/TrainingData/Y_Sims_PctID.csv.gz', index_col=[0,1])\n",
    "if fSRModel['Model.Class'] == 'SimilarityRegression':\n",
    "    featureset = fSRModel['SR.Features']\n",
    "    X = pd.read_csv('DNA/ByFamily/F009_1.97d/TrainingData/X_' + featureset  + '.csv.gz', index_col=[0,1])\n",
    "OriginalPreds = pd.read_csv('DNA/ByFamily/F009_1.97d/Models/Predictions_FinalModel.csv')\n",
    "Y['R.' + fSRModel['Model.Name']] = list(OriginalPreds[fSRModel['Model.Name']])\n",
    "\n",
    "#Score w/ python\n",
    "for i, x in X.iterrows():\n",
    "    f = (x - fSRModel['SR.FeatureScales.mean'])/fSRModel['SR.FeatureScales.sd']\n",
    "    score = fSRModel['SR.Intercept'] + np.dot(fSRModel['SR.Weights'], f)\n",
    "    if fSRModel['SR.LogisticTransform'] == True:\n",
    "        score = srpred.logistic(score)\n",
    "    Y.loc[i,'NP.' + fSRModel['Model.Name']] = score\n",
    "\n",
    "cc = np.corrcoef(Y.iloc[:, -1], Y.iloc[:, -2])\n",
    "print 'CorCoef (R & Python):', cc[0,1]"
   ]
  },
  {
   "cell_type": "markdown",
   "metadata": {
    "deletable": true,
    "editable": true
   },
   "source": [
    "# Evaluate SR Models"
   ]
  },
  {
   "cell_type": "code",
   "execution_count": 9,
   "metadata": {
    "collapsed": false,
    "deletable": true,
    "editable": true,
    "scrolled": true
   },
   "outputs": [
    {
     "name": "stdout",
     "output_type": "stream",
     "text": [
      "F002_1.97d\n",
      "F009_1.97d\n",
      "F026_1.97d\n",
      "F039_1.97d\n",
      "F082_1.97d\n",
      "F088_1.97d\n",
      "F091_1.97d\n",
      "F135_1.97d\n",
      "F140_1.97d\n",
      "F141_1.97d\n",
      "F158_1.97d\n",
      "F169_1.97d\n",
      "F170_1.97d\n",
      "F173_1.97d\n",
      "F174_1.97d\n",
      "F196_1.97d\n",
      "F201_1.97d\n",
      "F223_1.97d\n",
      "F231_1.97d\n",
      "F238_1.97d\n",
      "F251_1.97d\n",
      "F266_1.97d\n",
      "F273_1.97d\n",
      "F278_1.97d\n",
      "F281_1.97d\n",
      "F282_1.97d\n",
      "F291_1.97d\n",
      "F293_1.97d\n",
      "F296_1.97d\n",
      "F301_1.97d\n",
      "F310_1.97d\n",
      "F314_1.97d\n",
      "F315_1.97d\n",
      "F317_1.97d\n",
      "F323_1.97d\n",
      "F324_1.97d\n"
     ]
    }
   ],
   "source": [
    "CMs = {}\n",
    "Running_Truth = []\n",
    "Running_Preds = []\n",
    "\n",
    "OmitTrainingConstructs = False\n",
    "\n",
    "for loc_heldout_Y in glob.glob('DNA/ByFamily/*/TrainingData/Heldout.Y_Sims_PctID.csv.gz'):\n",
    "    FID = loc_heldout_Y.split('/')[2]\n",
    "    print FID\n",
    "    #Check if model was built\n",
    "    if os.path.isfile('DNA/SRModels/' + FID + '.json'):\n",
    "        fSRModel = srpred.ReadSRModel('DNA/SRModels/' + FID + '.json')\n",
    "        heldout_Y = pd.read_csv(loc_heldout_Y, index_col=[0,1])\n",
    "        if OmitTrainingConstructs:\n",
    "            TrainingConstructs = set()\n",
    "            with open(loc_heldout_Y.replace('Heldout.Y_Sims_PctID.csv.gz', 'CVTestIndicies_i0.txt')) as cvfile:\n",
    "                for line in cvfile:\n",
    "                    line = line.strip().split('\\t')\n",
    "                    TrainingConstructs.add(line[0])\n",
    "            #Get rid of comparisons w/ TrainingConstructs\n",
    "            keeprows = [False]*heldout_Y.shape[0]\n",
    "            for c, i in enumerate(list(heldout_Y.index)):\n",
    "                if len(TrainingConstructs.intersection(i)) == 0:\n",
    "                    keeprows[c] = True\n",
    "            heldout_Y = heldout_Y.loc[keeprows,]\n",
    "        if fSRModel['Model.Class'] == 'SimilarityRegression':\n",
    "            heldout_X = pd.read_csv('DNA/ByFamily/' + FID + '/TrainingData/Heldout.X_' + fSRModel['SR.Features']  + '.csv.gz', index_col=[0,1])\n",
    "            heldout_X = heldout_X.loc[heldout_Y.index,]\n",
    "            #Score w/ python\n",
    "            Scores = []\n",
    "            for i, x in heldout_X.iterrows():\n",
    "                f = (x - fSRModel['SR.FeatureScales.mean'])/fSRModel['SR.FeatureScales.sd']\n",
    "                score = fSRModel['SR.Intercept'] + np.dot(fSRModel['SR.Weights'], f)\n",
    "                if fSRModel['SR.LogisticTransform'] == True:\n",
    "                    score = srpred.logistic(score)\n",
    "                Scores.append(score)\n",
    "            heldout_Y['SRScores'] = Scores\n",
    "        else:\n",
    "            heldout_Y['SRScores'] = heldout_Y[fSRModel['Model.Name']]\n",
    "        \n",
    "        if heldout_Y.shape[0] > 0:\n",
    "            #Evaluate Predictions\n",
    "            heldout_Y['Class'] = 'Amb'\n",
    "            heldout_Y.loc[heldout_Y['EClass'] == 1,'Class'] = 'HSim'\n",
    "            heldout_Y.loc[heldout_Y['EScoreOverlap'] < 0.2,'Class'] = 'Dis'\n",
    "\n",
    "            heldout_Y['Pred'] = 'Amb'\n",
    "            heldout_Y.loc[heldout_Y['SRScores'] > fSRModel['Threshold.HSim'] ,'Pred'] = 'HSim'\n",
    "            heldout_Y.loc[heldout_Y['SRScores'] < fSRModel['Threshold.Dis'] ,'Pred'] = 'Dis'\n",
    "\n",
    "            CM = confusion_matrix(heldout_Y['Class'], heldout_Y['Pred'], labels=[\"HSim\", \"Amb\", \"Dis\"])\n",
    "            CMs[FID] = CM\n",
    "            Running_Truth += list(heldout_Y['Class'])\n",
    "            Running_Preds += list(heldout_Y['Pred'])"
   ]
  },
  {
   "cell_type": "code",
   "execution_count": 10,
   "metadata": {
    "collapsed": false,
    "deletable": true,
    "editable": true
   },
   "outputs": [
    {
     "name": "stdout",
     "output_type": "stream",
     "text": [
      "[[  726  1512   122]\n",
      " [   79  5670   912]\n",
      " [   75 22307 22764]]\n",
      "PERFORMANCE BY CLASS\n",
      "HSim       | Precision: 0.825 Recall: 0.307627118644\n",
      "Amb        | Precision: 0.192275085625 Recall: 0.851223540009\n",
      "Dissimilar | Precision: 0.95655097067 Recall: 0.504230718115\n",
      "COMMON METRICS\n",
      "Matthews Correlation Coefficient (MCC): 0.272437500282\n",
      "F1: 0.538335148707\n"
     ]
    }
   ],
   "source": [
    "count = 0\n",
    "for FID, cm in CMs.items():\n",
    "    if count == 0:\n",
    "        HPreds = cm.copy()\n",
    "    else:\n",
    "        HPreds += cm\n",
    "    count += 1\n",
    "    \n",
    "print HPreds\n",
    "print 'PERFORMANCE BY CLASS'\n",
    "print 'HSim       | Precision:', 1.0*HPreds[0,0]/sum(HPreds[:,0]), 'Recall:', 1.0*HPreds[0,0]/sum(HPreds[0,:])\n",
    "print 'Amb        | Precision:', 1.0*HPreds[1,1]/sum(HPreds[:,1]), 'Recall:', 1.0*HPreds[1,1]/sum(HPreds[1,:])\n",
    "print 'Dissimilar | Precision:', 1.0*HPreds[2,2]/sum(HPreds[:,2]), 'Recall:', 1.0*HPreds[2,2]/sum(HPreds[2,:])\n",
    "print 'COMMON METRICS'\n",
    "print 'Matthews Correlation Coefficient (MCC):', matthews_corrcoef(Running_Truth, Running_Preds) \n",
    "print 'F1:', f1_score(Running_Truth, Running_Preds, average = 'micro')"
   ]
  },
  {
   "cell_type": "code",
   "execution_count": null,
   "metadata": {
    "collapsed": true
   },
   "outputs": [],
   "source": []
  }
 ],
 "metadata": {
  "kernelspec": {
   "display_name": "Python 2",
   "language": "python",
   "name": "python2"
  },
  "language_info": {
   "codemirror_mode": {
    "name": "ipython",
    "version": 2
   },
   "file_extension": ".py",
   "mimetype": "text/x-python",
   "name": "python",
   "nbconvert_exporter": "python",
   "pygments_lexer": "ipython2",
   "version": "2.7.6"
  }
 },
 "nbformat": 4,
 "nbformat_minor": 2
}
