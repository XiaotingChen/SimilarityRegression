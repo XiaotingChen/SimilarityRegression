{
 "cells": [
  {
   "cell_type": "markdown",
   "metadata": {},
   "source": [
    "# Load Escore Data\n",
    "## First section only has to be run once"
   ]
  },
  {
   "cell_type": "code",
   "execution_count": 1,
   "metadata": {
    "collapsed": false
   },
   "outputs": [],
   "source": [
    "#import glob\n",
    "\n",
    "#EScoreDict = {} # RNCMPT_ID : [# Escores > 0.4, [Sorted List of E-scores]]\n",
    "\n",
    "#with open('/Users/slambert/EvoCisBP/RNA/ClusterCopy/EscoreData/AB_Escores.40Thresh.txt', 'r') as infile:\n",
    "#    for line in infile:\n",
    "#        line = line.strip().split('\\t')\n",
    "#        EScoreDict[line[0]] = [int(line[2]), line[3:]]\n",
    "        \n",
    "#import cPickle \n",
    "#with open('RNCMPT.Escores.cpickle','w') as handle:\n",
    "#    cPickle.dump(EScoreDict, handle, cPickle.HIGHEST_PROTOCOL)"
   ]
  },
  {
   "cell_type": "markdown",
   "metadata": {},
   "source": [
    "## This section loads the parsed data"
   ]
  },
  {
   "cell_type": "code",
   "execution_count": 2,
   "metadata": {
    "collapsed": false
   },
   "outputs": [],
   "source": [
    "import cPickle \n",
    "with open('RNCMPT.Escores.cpickle' ,'r') as handle:\n",
    "    EScoreDict = cPickle.load(handle) # RNCMPT_ID : [# Escores > 0.4, [Sorted List of E-scores]]"
   ]
  },
  {
   "cell_type": "markdown",
   "metadata": {},
   "source": [
    "# Load DB Info"
   ]
  },
  {
   "cell_type": "code",
   "execution_count": 3,
   "metadata": {
    "collapsed": false
   },
   "outputs": [],
   "source": [
    "import pandas as pd\n",
    "\n",
    "motifs = pd.read_csv('../DBFiles/motifs.tab', delimiter='\\t', index_col = 0, skiprows =[1])\n",
    "motifs = motifs[motifs['Motif_Type'] == 'RNAcompete']\n",
    "\n",
    "#Add Study\n",
    "with open('../DBFiles/motif_sources.tab', 'r') as infile:\n",
    "    for line in infile:\n",
    "        line = line.strip().split('\\t')\n",
    "        motifs.loc[motifs['MSource_ID'] == line[0], 'Study'] = line[1]\n",
    "        \n",
    "#Map Domains 2 TF fams\n",
    "domains = pd.read_csv('../DBFiles/domains.tab', delimiter='\\t', index_col = 0, skiprows =[1])\n",
    "tf_families = pd.read_csv('../DBFiles/tf_families.tab', delimiter='\\t', index_col = 0, skiprows =[1])\n",
    "\n",
    "DomainIDs2Fam = {}\n",
    "for FID, info in tf_families.iterrows():\n",
    "    DomainIDs = []\n",
    "    DBDs = info['DBDs'].split(',')\n",
    "    for DBD in DBDs:\n",
    "        DomainIDs.append(domains.loc[domains['Pfam_Name'] == DBD].index[0])\n",
    "    DomainIDs.sort()\n",
    "    DomainIDs2Fam[tuple(DomainIDs)] = FID"
   ]
  },
  {
   "cell_type": "code",
   "execution_count": 4,
   "metadata": {
    "collapsed": false
   },
   "outputs": [
    {
     "name": "stdout",
     "output_type": "stream",
     "text": [
      "TFFam Disagreement: T080390_1.95d M032_1.95d F47_1.95d F61_1.95d\n",
      "TFFam Disagreement: T046073_1.95d M392_1.95d F43_1.95d F47_1.95d\n"
     ]
    }
   ],
   "source": [
    "#Map Motifs 2 TF Fams\n",
    "motif_features = pd.read_csv('../DBFiles/motif_features.tab', delimiter='\\t', index_col = 0)\n",
    "motif_features = motif_features[motif_features['Motif_ID'].isin(motifs.index)]\n",
    "tfs =  pd.read_csv('../DBFiles/tfs.tab', delimiter='\\t', index_col = 0)\n",
    "tfs = tfs.loc[set(motifs['TF_ID']),]\n",
    "\n",
    "for MID, info in motifs.iterrows():\n",
    "    DBDs = list(set(motif_features.loc[motif_features['Motif_ID'] == MID, 'Domain_ID']))\n",
    "    DBDs.sort()\n",
    "    \n",
    "    FamID = DomainIDs2Fam.get(tuple(DBDs))\n",
    "    TFFam = tfs.loc[info['TF_ID'], 'Family_ID']\n",
    "    \n",
    "    if FamID != None:\n",
    "        # Check for TF agreement\n",
    "        FamAgreement = (TFFam == FamID)\n",
    "        motifs.loc[MID, 'Family_ID'] = FamID\n",
    "        if FamAgreement == False:\n",
    "            print 'TFFam Disagreement:',info['TF_ID'], MID, FamID, TFFam\n",
    "    else:\n",
    "        print 'Sub: TFFamily:', MID\n",
    "        motifs.loc[MID, 'Family_ID'] = TFFam"
   ]
  },
  {
   "cell_type": "code",
   "execution_count": 5,
   "metadata": {
    "collapsed": true
   },
   "outputs": [],
   "source": [
    "#Check if it's in the EscoreDict\n",
    "MissingInfo = []\n",
    "for MID, info in motifs.iterrows():\n",
    "    if (info['DBID']) in EScoreDict.keys():\n",
    "        motifs.loc[MID, 'EscoreData'] = True\n",
    "    else:\n",
    "        print 'Missing:', MID, info['Study'], info['DBID']\n",
    "        MissingInfo.append([MID,info['Study'], info['DBID']])\n",
    "        motifs.loc[MID, 'EscoreData'] = False"
   ]
  },
  {
   "cell_type": "markdown",
   "metadata": {},
   "source": [
    "# Calculate E-score Overlaps"
   ]
  },
  {
   "cell_type": "code",
   "execution_count": 6,
   "metadata": {
    "collapsed": false
   },
   "outputs": [],
   "source": [
    "import os\n",
    "import itertools\n",
    "import numpy as np\n",
    "\n",
    "if os.path.isdir('ByFamily') == False:\n",
    "    os.mkdir('ByFamily')\n",
    "    \n",
    "for Fam, data in motifs.groupby('Family_ID'):\n",
    "    data = data[data['EscoreData'] == True]\n",
    "    if data.shape[0] > 1:\n",
    "        \n",
    "        FamFile = open('ByFamily/' + Fam + '.tmpEscoreOverlaps.txt', 'w')\n",
    "        h = ['MID_x', 'Study_x', 'DBID_x', 'MID_y', 'Study_y', 'DBID_y', 'OverlapN', 'maxN', 'EScoreOverlap']\n",
    "        FamFile.write('\\t'.join(h) + '\\n')\n",
    "        IDs = data.index\n",
    "        \n",
    "        #Calculate the Overlap Data for each pair\n",
    "        for x, y in itertools.combinations(IDs, 2):\n",
    "            x_info = motifs.loc[x]\n",
    "            x_maxN, x_Escores = EScoreDict[(x_info['DBID'])]\n",
    "            y_info = motifs.loc[y]\n",
    "            y_maxN, y_Escore = EScoreDict[(y_info['DBID'])]\n",
    "            \n",
    "            OverlapN = np.nan\n",
    "            EScoreOverlap = np.nan\n",
    "            \n",
    "            maxN = max([x_maxN, y_maxN])\n",
    "            if maxN == 0:\n",
    "                maxN = np.nan\n",
    "            else:\n",
    "                K_Overlap = set(x_Escores[:maxN])\n",
    "                K_Overlap = K_Overlap.intersection(y_Escore[:maxN])\n",
    "                OverlapN = len(K_Overlap)\n",
    "                EScoreOverlap = 1.0*OverlapN/maxN\n",
    "            \n",
    "            oline = [x, x_info['Study'], x_info['DBID'], y, y_info['Study'], y_info['DBID'], OverlapN, maxN, EScoreOverlap]\n",
    "            FamFile.write('\\t'.join(map(str, oline)) + '\\n')\n",
    "        FamFile.close()"
   ]
  },
  {
   "cell_type": "markdown",
   "metadata": {
    "collapsed": true
   },
   "source": [
    "# Replicate Ovelap"
   ]
  },
  {
   "cell_type": "code",
   "execution_count": 7,
   "metadata": {
    "collapsed": false,
    "scrolled": true
   },
   "outputs": [
    {
     "name": "stdout",
     "output_type": "stream",
     "text": [
      "T015776_1.95d LIN28A Homo_sapiens 2\n",
      "T016826_1.95d RBM4 Homo_sapiens 2\n",
      "T017024_1.95d lark Drosophila_melanogaster 3\n",
      "T033730_1.95d YBX1 Homo_sapiens 2\n",
      "T057092_1.95d pum Drosophila_melanogaster 6\n",
      "T060412_1.95d RBM5 Homo_sapiens 2\n",
      "T080380_1.95d PTBP1 Homo_sapiens 2\n",
      "T080386_1.95d ELAVL1 Homo_sapiens 5\n",
      "T080430_1.95d HNRNPL Homo_sapiens 2\n",
      "T080440_1.95d SRSF9 Homo_sapiens 2\n",
      "T080447_1.95d TIA1 Homo_sapiens 2\n",
      "T080477_1.95d MSI1 Homo_sapiens 2\n",
      "T080480_1.95d SRSF1 Homo_sapiens 6\n",
      "T080493_1.95d RBMS3 Homo_sapiens 2\n",
      "T080566_1.95d SRSF10 Homo_sapiens 4\n",
      "T089894_1.95d aret Drosophila_melanogaster 2\n",
      "T089895_1.95d Hrb98DE Drosophila_melanogaster 3\n",
      "T089903_1.95d Hrb27C Drosophila_melanogaster 2\n",
      "T089916_1.95d msi Drosophila_melanogaster 2\n",
      "T090006_1.95d shep Drosophila_melanogaster 3\n",
      "T115273_1.95d sup-12 Caenorhabditis_elegans 2\n",
      "T147494_1.95d VTS1 Saccharomyces_cerevisiae 2\n"
     ]
    }
   ],
   "source": [
    "FamReps = {}\n",
    "\n",
    "ReplicateOverlaps = open('RNCMPT.ReplicateOverlaps.txt', 'w')\n",
    "h = ['Family_ID', 'Family_Name', 'TF_ID', 'TF_Name', 'TF_Species', 'MID_x', 'DBID_x', 'MID_y', 'DBID_y', 'OverlapN', 'maxN', 'EScoreOverlap']\n",
    "ReplicateOverlaps.write('\\t'.join(map(str, h)) + '\\n')\n",
    "\n",
    "for TF_ID, data in motifs.groupby('TF_ID'):\n",
    "    if data.shape[0] > 1:\n",
    "        print TF_ID, tfs.loc[TF_ID,'TF_Name'], tfs.loc[TF_ID,'TF_Species'], data.shape[0]\n",
    "        IDs = data.index\n",
    "        for x, y in itertools.combinations(IDs, 2):\n",
    "            x_info = motifs.loc[x]\n",
    "            x_maxN, x_Escores = EScoreDict[(x_info['DBID'])]\n",
    "            y_info = motifs.loc[y]\n",
    "            y_maxN, y_Escore = EScoreDict[(y_info['DBID'])]\n",
    "            \n",
    "            if x_info['Family_ID'] == y_info['Family_ID']:\n",
    "                OverlapN = np.nan\n",
    "                EScoreOverlap = np.nan\n",
    "\n",
    "                maxN = max([x_maxN, y_maxN])\n",
    "                if maxN == 0:\n",
    "                    maxN = np.nan\n",
    "                else:\n",
    "                    K_Overlap = set(x_Escores[:maxN])\n",
    "                    K_Overlap = K_Overlap.intersection(y_Escore[:maxN])\n",
    "                    OverlapN = len(K_Overlap)\n",
    "                    EScoreOverlap = 1.0*OverlapN/maxN\n",
    "\n",
    "                oline = [x_info['Family_ID'], tf_families.loc[x_info['Family_ID'] ,'Family_Name'], TF_ID, tfs.loc[TF_ID,'TF_Name'], tfs.loc[TF_ID,'TF_Species'], x, x_info['DBID'], y, y_info['DBID'], OverlapN, maxN, EScoreOverlap]\n",
    "                ReplicateOverlaps.write('\\t'.join(map(str, oline)) + '\\n')\n",
    "\n",
    "ReplicateOverlaps.close()"
   ]
  },
  {
   "cell_type": "markdown",
   "metadata": {},
   "source": [
    "# Calculate Replicate Thresholds "
   ]
  },
  {
   "cell_type": "code",
   "execution_count": 8,
   "metadata": {
    "collapsed": false
   },
   "outputs": [
    {
     "data": {
      "text/html": [
       "<div>\n",
       "<style>\n",
       "    .dataframe thead tr:only-child th {\n",
       "        text-align: right;\n",
       "    }\n",
       "\n",
       "    .dataframe thead th {\n",
       "        text-align: left;\n",
       "    }\n",
       "\n",
       "    .dataframe tbody tr th {\n",
       "        vertical-align: top;\n",
       "    }\n",
       "</style>\n",
       "<table border=\"1\" class=\"dataframe\">\n",
       "  <thead>\n",
       "    <tr style=\"text-align: right;\">\n",
       "      <th></th>\n",
       "      <th>Family_ID</th>\n",
       "      <th>Family_Name</th>\n",
       "      <th>TF_ID</th>\n",
       "      <th>TF_Name</th>\n",
       "      <th>TF_Species</th>\n",
       "      <th>MID_x</th>\n",
       "      <th>DBID_x</th>\n",
       "      <th>MID_y</th>\n",
       "      <th>DBID_y</th>\n",
       "      <th>OverlapN</th>\n",
       "      <th>maxN</th>\n",
       "      <th>EScoreOverlap</th>\n",
       "    </tr>\n",
       "  </thead>\n",
       "  <tbody>\n",
       "    <tr>\n",
       "      <th>0</th>\n",
       "      <td>F29_1.95d</td>\n",
       "      <td>CCHC ZF,CSD</td>\n",
       "      <td>T015776_1.95d</td>\n",
       "      <td>LIN28A</td>\n",
       "      <td>Homo_sapiens</td>\n",
       "      <td>M035_1.95d</td>\n",
       "      <td>RNCMPT00036</td>\n",
       "      <td>M153_1.95d</td>\n",
       "      <td>RNCMPT00162</td>\n",
       "      <td>NaN</td>\n",
       "      <td>NaN</td>\n",
       "      <td>NaN</td>\n",
       "    </tr>\n",
       "    <tr>\n",
       "      <th>1</th>\n",
       "      <td>F34_1.95d</td>\n",
       "      <td>CCHC ZF,RRM</td>\n",
       "      <td>T016826_1.95d</td>\n",
       "      <td>RBM4</td>\n",
       "      <td>Homo_sapiens</td>\n",
       "      <td>M050_1.95d</td>\n",
       "      <td>RNCMPT00052</td>\n",
       "      <td>M109_1.95d</td>\n",
       "      <td>RNCMPT00113</td>\n",
       "      <td>35.0</td>\n",
       "      <td>42.0</td>\n",
       "      <td>0.833333</td>\n",
       "    </tr>\n",
       "    <tr>\n",
       "      <th>2</th>\n",
       "      <td>F34_1.95d</td>\n",
       "      <td>CCHC ZF,RRM</td>\n",
       "      <td>T017024_1.95d</td>\n",
       "      <td>lark</td>\n",
       "      <td>Drosophila_melanogaster</td>\n",
       "      <td>M034_1.95d</td>\n",
       "      <td>RNCMPT00035</td>\n",
       "      <td>M094_1.95d</td>\n",
       "      <td>RNCMPT00097</td>\n",
       "      <td>5.0</td>\n",
       "      <td>10.0</td>\n",
       "      <td>0.500000</td>\n",
       "    </tr>\n",
       "    <tr>\n",
       "      <th>3</th>\n",
       "      <td>F34_1.95d</td>\n",
       "      <td>CCHC ZF,RRM</td>\n",
       "      <td>T017024_1.95d</td>\n",
       "      <td>lark</td>\n",
       "      <td>Drosophila_melanogaster</td>\n",
       "      <td>M034_1.95d</td>\n",
       "      <td>RNCMPT00035</td>\n",
       "      <td>M119_1.95d</td>\n",
       "      <td>RNCMPT00124</td>\n",
       "      <td>0.0</td>\n",
       "      <td>2.0</td>\n",
       "      <td>0.000000</td>\n",
       "    </tr>\n",
       "    <tr>\n",
       "      <th>4</th>\n",
       "      <td>F34_1.95d</td>\n",
       "      <td>CCHC ZF,RRM</td>\n",
       "      <td>T017024_1.95d</td>\n",
       "      <td>lark</td>\n",
       "      <td>Drosophila_melanogaster</td>\n",
       "      <td>M094_1.95d</td>\n",
       "      <td>RNCMPT00097</td>\n",
       "      <td>M119_1.95d</td>\n",
       "      <td>RNCMPT00124</td>\n",
       "      <td>8.0</td>\n",
       "      <td>10.0</td>\n",
       "      <td>0.800000</td>\n",
       "    </tr>\n",
       "  </tbody>\n",
       "</table>\n",
       "</div>"
      ],
      "text/plain": [
       "   Family_ID  Family_Name          TF_ID TF_Name               TF_Species  \\\n",
       "0  F29_1.95d  CCHC ZF,CSD  T015776_1.95d  LIN28A             Homo_sapiens   \n",
       "1  F34_1.95d  CCHC ZF,RRM  T016826_1.95d    RBM4             Homo_sapiens   \n",
       "2  F34_1.95d  CCHC ZF,RRM  T017024_1.95d    lark  Drosophila_melanogaster   \n",
       "3  F34_1.95d  CCHC ZF,RRM  T017024_1.95d    lark  Drosophila_melanogaster   \n",
       "4  F34_1.95d  CCHC ZF,RRM  T017024_1.95d    lark  Drosophila_melanogaster   \n",
       "\n",
       "        MID_x       DBID_x       MID_y       DBID_y  OverlapN  maxN  \\\n",
       "0  M035_1.95d  RNCMPT00036  M153_1.95d  RNCMPT00162       NaN   NaN   \n",
       "1  M050_1.95d  RNCMPT00052  M109_1.95d  RNCMPT00113      35.0  42.0   \n",
       "2  M034_1.95d  RNCMPT00035  M094_1.95d  RNCMPT00097       5.0  10.0   \n",
       "3  M034_1.95d  RNCMPT00035  M119_1.95d  RNCMPT00124       0.0   2.0   \n",
       "4  M094_1.95d  RNCMPT00097  M119_1.95d  RNCMPT00124       8.0  10.0   \n",
       "\n",
       "   EScoreOverlap  \n",
       "0            NaN  \n",
       "1       0.833333  \n",
       "2       0.500000  \n",
       "3       0.000000  \n",
       "4       0.800000  "
      ]
     },
     "execution_count": 8,
     "metadata": {},
     "output_type": "execute_result"
    }
   ],
   "source": [
    "ReplicateOverlaps = pd.read_csv('RNCMPT.ReplicateOverlaps.txt', sep = '\\t')\n",
    "ReplicateOverlaps.head()"
   ]
  },
  {
   "cell_type": "code",
   "execution_count": 9,
   "metadata": {
    "collapsed": false
   },
   "outputs": [
    {
     "name": "stdout",
     "output_type": "stream",
     "text": [
      "EScoreOverlap - RRM (25th Percentile): 0.2\n",
      "EScoreOverlap - !RRM (25th Percentile): 0.285714285714\n",
      "EScoreOverlap - All Reps (25th Percentile): 0.209375\n"
     ]
    }
   ],
   "source": [
    "#Divide by RRM and other\n",
    "ID_RRM = list(ReplicateOverlaps.loc[ReplicateOverlaps['Family_Name'] == 'RRM', 'Family_ID'])[0]\n",
    "Overlaps_RRM = ReplicateOverlaps.loc[ReplicateOverlaps['Family_ID'] == ID_RRM,'EScoreOverlap']\n",
    "Overlaps_RRM = Overlaps_RRM[Overlaps_RRM.isnull() == False]\n",
    "Overlaps_RRM_p25 = np.percentile(Overlaps_RRM, 25)\n",
    "print 'EScoreOverlap - RRM (25th Percentile):', Overlaps_RRM_p25\n",
    "\n",
    "Overlaps_Other = ReplicateOverlaps.loc[ReplicateOverlaps['Family_ID'] != ID_RRM,'EScoreOverlap']\n",
    "Overlaps_Other = Overlaps_Other[Overlaps_Other.isnull() == False]\n",
    "Overlaps_Other_p25 = np.percentile(Overlaps_Other, 25)\n",
    "print 'EScoreOverlap - !RRM (25th Percentile):', Overlaps_Other_p25\n",
    "\n",
    "Overlaps_All = ReplicateOverlaps['EScoreOverlap']\n",
    "Overlaps_All = Overlaps_All[Overlaps_All.isnull() == False]\n",
    "Overlaps_All_p25 = np.percentile(Overlaps_All, 25)\n",
    "print 'EScoreOverlap - All Reps (25th Percentile):', Overlaps_All_p25"
   ]
  },
  {
   "cell_type": "markdown",
   "metadata": {},
   "source": [
    "## Calculate E-class"
   ]
  },
  {
   "cell_type": "code",
   "execution_count": 10,
   "metadata": {
    "collapsed": false
   },
   "outputs": [],
   "source": [
    "import glob \n",
    "for OverlapFile in glob.glob('ByFamily/*tmpEscoreOverlaps.txt'):\n",
    "    FamID = OverlapFile.split('/')[1].replace('tmpEscoreOverlaps.txt', '')\n",
    "    OverlapData = pd.read_csv(OverlapFile, sep= '\\t')\n",
    "\n",
    "    EScoreOverlaps = OverlapData['EScoreOverlap']\n",
    "    \n",
    "    #Try EClass\n",
    "    Class = []\n",
    "    for x in EScoreOverlaps:\n",
    "        if pd.isnull(x) == False:\n",
    "            if FamID == ID_RRM:\n",
    "                Class.append(int(x >= Overlaps_RRM_p25))\n",
    "            else:\n",
    "                Class.append(int(x >= Overlaps_Other_p25))\n",
    "        else:\n",
    "            Class.append(np.nan)\n",
    "    OverlapData['EClass'] = Class\n",
    "    \n",
    "    #Try EClass (All)\n",
    "    Class = []\n",
    "    for x in EScoreOverlaps:\n",
    "        if pd.isnull(x) == False:\n",
    "            Class.append(int(x >= Overlaps_All_p25))\n",
    "        else:\n",
    "            Class.append(np.nan)\n",
    "    OverlapData['EClass_All'] = Class\n",
    "    OverlapData.to_csv(OverlapFile.replace('tmpEscoreOverlaps.txt', 'EscoreOverlaps.txt'), sep = '\\t', index=False)"
   ]
  }
 ],
 "metadata": {
  "kernelspec": {
   "display_name": "Python 2",
   "language": "python",
   "name": "python2"
  },
  "language_info": {
   "codemirror_mode": {
    "name": "ipython",
    "version": 2
   },
   "file_extension": ".py",
   "mimetype": "text/x-python",
   "name": "python",
   "nbconvert_exporter": "python",
   "pygments_lexer": "ipython2",
   "version": "2.7.6"
  }
 },
 "nbformat": 4,
 "nbformat_minor": 0
}
