{
 "cells": [
  {
   "cell_type": "markdown",
   "metadata": {},
   "source": [
    "# Load Escore Data"
   ]
  },
  {
   "cell_type": "code",
   "execution_count": 7,
   "metadata": {
    "collapsed": false
   },
   "outputs": [],
   "source": [
    "import cPickle \n",
    "EScoreDict = cPickle.load(open('PBM.Escores.cpickle','r')) # (Study, ID)"
   ]
  },
  {
   "cell_type": "code",
   "execution_count": 8,
   "metadata": {
    "collapsed": false
   },
   "outputs": [],
   "source": [
    "ReplicateOverlapsDict = {}\n",
    "with open('PBM.ReplicateOverlaps.txt', 'r') as infile:\n",
    "    for line in infile:\n",
    "        line = line.strip().split('\\t')\n",
    "        ReplicateOverlapsDict[(line[0], line[1])] = float(line[2])"
   ]
  },
  {
   "cell_type": "markdown",
   "metadata": {
    "collapsed": true
   },
   "source": [
    "# Load DB Info "
   ]
  },
  {
   "cell_type": "code",
   "execution_count": 9,
   "metadata": {
    "collapsed": false
   },
   "outputs": [
    {
     "name": "stdout",
     "output_type": "stream",
     "text": [
      "Missing: M00411_1.97d Zta CEBPB_5hmC\n",
      "Missing: M00412_1.97d Zta CEBPB_5mCG\n",
      "Missing: M00413_1.97d Zta CEBPB_5mC\n",
      "Missing: M00414_1.97d Zta CEBPB_C\n",
      "Missing: M01033_1.97d FOXP1_2011 pEX0123\n",
      "Missing: M01034_1.97d FOXP1_2011 pEX0124\n",
      "Missing: M01036_1.97d FOXP1_2011 pEX0125\n",
      "Missing: M01037_1.97d FOXP1_2011 pEX0126\n",
      "Missing: M02321_1.97d Li2017 PHF1\n",
      "Missing: M02322_1.97d Li2017 MTF2\n",
      "Missing: M02329_1.97d Zta Zta_5hmC\n",
      "Missing: M02330_1.97d Zta Zta_5mCG\n",
      "Missing: M02331_1.97d Zta Zta_5mC\n",
      "Missing: M02332_1.97d Zta Zta_C\n"
     ]
    }
   ],
   "source": [
    "import pandas as pd\n",
    "\n",
    "motifs = pd.read_csv('../DBFiles/motifs.tab', delimiter='\\t', index_col = 0, skiprows =[1])\n",
    "motifs = motifs[motifs['Motif_Type'] == 'PBM']\n",
    "\n",
    "#Add Study\n",
    "with open('../DBFiles/motif_sources.tab', 'r') as infile:\n",
    "    for line in infile:\n",
    "        line = line.strip().split('\\t')\n",
    "        motifs.loc[motifs['MSource_ID'] == line[0], 'Study'] = line[1]\n",
    "\n",
    "#Check if it's in the EscoreDict\n",
    "MissingInfo = []\n",
    "for MID, info in motifs.iterrows():\n",
    "    if (info['Study'], info['DBID']) in EScoreDict.keys():\n",
    "        motifs.loc[MID, 'EscoreData'] = True\n",
    "    else:\n",
    "        print 'Missing:', MID, info['Study'], info['DBID']\n",
    "        MissingInfo.append([MID,info['Study'], info['DBID']])\n",
    "        motifs.loc[MID, 'EscoreData'] = False"
   ]
  },
  {
   "cell_type": "code",
   "execution_count": 10,
   "metadata": {
    "collapsed": false
   },
   "outputs": [],
   "source": [
    "#Map Domains 2 TF fams\n",
    "domains = pd.read_csv('../DBFiles/domains.tab', delimiter='\\t', index_col = 0, skiprows =[1])\n",
    "tf_families = pd.read_csv('../DBFiles/tf_families.tab', delimiter='\\t', index_col = 0, skiprows =[1])\n",
    "\n",
    "DomainIDs2Fam = {}\n",
    "for FID, info in tf_families.iterrows():\n",
    "    DomainIDs = []\n",
    "    DBDs = info['DBDs'].split(',')\n",
    "    for DBD in DBDs:\n",
    "        DomainIDs.append(domains.loc[domains['Pfam_Name'] == DBD].index[0])\n",
    "    DomainIDs.sort()\n",
    "    DomainIDs2Fam[tuple(DomainIDs)] = FID"
   ]
  },
  {
   "cell_type": "code",
   "execution_count": 11,
   "metadata": {
    "collapsed": false
   },
   "outputs": [
    {
     "name": "stdout",
     "output_type": "stream",
     "text": [
      "Sub: TFFamily: M00001_1.97d\n",
      "TFFam Disagreement: T010402_1.97d M00112_1.97d F009_1.97d F010_1.97d\n",
      "TFFam Disagreement: T010402_1.97d M00113_1.97d F050_1.97d F010_1.97d\n",
      "TFFam Disagreement: T010403_1.97d M00114_1.97d F009_1.97d F010_1.97d\n",
      "TFFam Disagreement: T075847_1.97d M00504_1.97d F223_1.97d F116_1.97d\n",
      "TFFam Disagreement: T076197_1.97d M00505_1.97d F223_1.97d F116_1.97d\n",
      "TFFam Disagreement: T076449_1.97d M00506_1.97d F251_1.97d F119_1.97d\n",
      "TFFam Disagreement: T167145_1.97d M00883_1.97d F223_1.97d F164_1.97d\n",
      "TFFam Disagreement: T170153_1.97d M00935_1.97d F201_1.97d F173_1.97d\n",
      "TFFam Disagreement: T237329_1.97d M01677_1.97d F281_1.97d F230_1.97d\n",
      "TFFam Disagreement: T237329_1.97d M01678_1.97d F281_1.97d F230_1.97d\n",
      "TFFam Disagreement: T238363_1.97d M01710_1.97d F223_1.97d F231_1.97d\n",
      "TFFam Disagreement: T238369_1.97d M01716_1.97d F289_1.97d F231_1.97d\n",
      "TFFam Disagreement: T238703_1.97d M01724_1.97d F223_1.97d F231_1.97d\n",
      "TFFam Disagreement: T316254_1.97d M02106_1.97d F231_1.97d F289_1.97d\n",
      "TFFam Disagreement: T350220_1.97d M02318_1.97d F091_1.97d F319_1.97d\n",
      "TFFam Disagreement: T350221_1.97d M02319_1.97d F091_1.97d F319_1.97d\n",
      "TFFam Disagreement: T350335_1.97d M02323_1.97d F002_1.97d F319_1.97d\n",
      "TFFam Disagreement: T350348_1.97d M02324_1.97d F140_1.97d F319_1.97d\n",
      "TFFam Disagreement: T350392_1.97d M02328_1.97d F091_1.97d F319_1.97d\n",
      "TFFam Disagreement: T350392_1.97d M02329_1.97d F091_1.97d F319_1.97d\n",
      "TFFam Disagreement: T350392_1.97d M02330_1.97d F091_1.97d F319_1.97d\n",
      "TFFam Disagreement: T350392_1.97d M02331_1.97d F091_1.97d F319_1.97d\n",
      "TFFam Disagreement: T350392_1.97d M02332_1.97d F091_1.97d F319_1.97d\n",
      "TFFam Disagreement: T350394_1.97d M02333_1.97d F082_1.97d F319_1.97d\n"
     ]
    }
   ],
   "source": [
    "#Map Motifs 2 TF Fams\n",
    "motif_features = pd.read_csv('../DBFiles/motif_features.tab', delimiter='\\t', index_col = 0)\n",
    "motif_features = motif_features[motif_features['Motif_ID'].isin(motifs.index)]\n",
    "tfs =  pd.read_csv('../DBFiles/tfs.tab', delimiter='\\t', index_col = 0)\n",
    "tfs = tfs.loc[set(motifs['TF_ID']),]\n",
    "\n",
    "for MID, info in motifs.iterrows():\n",
    "    DBDs = list(set(motif_features.loc[motif_features['Motif_ID'] == MID, 'Domain_ID']))\n",
    "    DBDs.sort()\n",
    "    \n",
    "    FamID = DomainIDs2Fam.get(tuple(DBDs))\n",
    "    TFFam = tfs.loc[info['TF_ID'], 'Family_ID']\n",
    "    \n",
    "    if FamID != None:\n",
    "        # Check for TF agreement\n",
    "        FamAgreement = (TFFam == FamID)\n",
    "        motifs.loc[MID, 'Family_ID'] = FamID\n",
    "        if FamAgreement == False:\n",
    "            print 'TFFam Disagreement:',info['TF_ID'], MID, FamID, TFFam\n",
    "    else:\n",
    "        print 'Sub: TFFamily:', MID\n",
    "        motifs.loc[MID, 'Family_ID'] = TFFam"
   ]
  },
  {
   "cell_type": "markdown",
   "metadata": {},
   "source": [
    "# Calculate Overlaps"
   ]
  },
  {
   "cell_type": "code",
   "execution_count": 12,
   "metadata": {
    "collapsed": false,
    "scrolled": true
   },
   "outputs": [],
   "source": [
    "import os\n",
    "import itertools\n",
    "import numpy as np\n",
    "\n",
    "if os.path.isdir('ByFamily') == False:\n",
    "    os.mkdir('ByFamily')\n",
    "\n",
    "    \n",
    "FamilyOverlapThresholds = open('PBM.FamilyOverlapThresholds.txt', 'w')\n",
    "    \n",
    "for Fam, data in motifs.groupby('Family_ID'):\n",
    "    data = data[data['EscoreData'] == True]\n",
    "    if data.shape[0] > 1:\n",
    "        \n",
    "        FamFile = open('ByFamily/' + Fam + '.EscoreOverlaps.txt', 'w')\n",
    "        h = ['MID_x', 'Study_x', 'DBID_x', 'MID_y', 'Study_y', 'DBID_y', 'OverlapN', 'maxN', 'EScoreOverlap', 'EClass']\n",
    "        FamFile.write('\\t'.join(h) + '\\n')\n",
    "        IDs = data.index\n",
    "        \n",
    "        #Assemble the ReplicateOverlap Stats\n",
    "        ReplicateOverlaps = []\n",
    "        for x in IDs:\n",
    "            x_info = motifs.loc[x]\n",
    "            ReplicateOverlap = ReplicateOverlapsDict.get((x_info['Study'], x_info['DBID']))\n",
    "            if ReplicateOverlap != None:\n",
    "                ReplicateOverlaps.append(ReplicateOverlap)\n",
    "        if len(ReplicateOverlaps) > 3:\n",
    "            p25_cutoff = np.percentile(ReplicateOverlaps, 25)\n",
    "        else:\n",
    "            p25_cutoff = None\n",
    "        #print Fam, tf_families.loc[Fam, 'Family_Name'], p25_cutoff\n",
    "        FamilyOverlapThresholds.write('\\t'.join(map(str, [Fam, tf_families.loc[Fam, 'Family_Name'], tf_families.loc[Fam, 'DBDs'], p25_cutoff])) + '\\n')\n",
    "        \n",
    "        #Calculate the Overlap Data for each pair\n",
    "        for x, y in itertools.combinations(IDs, 2):\n",
    "            x_info = motifs.loc[x]\n",
    "            x_maxN, x_Escores = EScoreDict[(x_info['Study'], x_info['DBID'])]\n",
    "            y_info = motifs.loc[y]\n",
    "            y_maxN, y_Escore = EScoreDict[(y_info['Study'], y_info['DBID'])]\n",
    "            \n",
    "            OverlapN = np.nan\n",
    "            EScoreOverlap = np.nan\n",
    "            EClass = np.nan\n",
    "            \n",
    "            maxN = max([x_maxN, y_maxN])\n",
    "            if maxN == 0:\n",
    "                maxN = np.nan\n",
    "            else:\n",
    "                K_Overlap = set(x_Escores[:maxN])\n",
    "                K_Overlap = K_Overlap.intersection(y_Escore[:maxN])\n",
    "                OverlapN = len(K_Overlap)\n",
    "                EScoreOverlap = 1.0*OverlapN/maxN\n",
    "                \n",
    "                if p25_cutoff != None:\n",
    "                    EClass = int(EScoreOverlap >= p25_cutoff)\n",
    "            \n",
    "            oline = [x, x_info['Study'], x_info['DBID'], y, y_info['Study'], y_info['DBID'], OverlapN, maxN, EScoreOverlap, EClass]\n",
    "            FamFile.write('\\t'.join(map(str, oline)) + '\\n')\n",
    "        FamFile.close()\n",
    "            \n",
    "FamilyOverlapThresholds.close()"
   ]
  },
  {
   "cell_type": "code",
   "execution_count": null,
   "metadata": {
    "collapsed": true
   },
   "outputs": [],
   "source": []
  }
 ],
 "metadata": {
  "kernelspec": {
   "display_name": "Python 2",
   "language": "python",
   "name": "python2"
  },
  "language_info": {
   "codemirror_mode": {
    "name": "ipython",
    "version": 2
   },
   "file_extension": ".py",
   "mimetype": "text/x-python",
   "name": "python",
   "nbconvert_exporter": "python",
   "pygments_lexer": "ipython2",
   "version": "2.7.6"
  }
 },
 "nbformat": 4,
 "nbformat_minor": 0
}
